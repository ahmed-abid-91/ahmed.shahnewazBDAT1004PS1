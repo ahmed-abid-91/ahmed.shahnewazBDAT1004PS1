{
 "cells": [
  {
   "cell_type": "markdown",
   "id": "73cff0c2",
   "metadata": {},
   "source": [
    "Question 6 Python"
   ]
  },
  {
   "cell_type": "code",
   "execution_count": 30,
   "id": "8ff59ae1",
   "metadata": {},
   "outputs": [
    {
     "name": "stdout",
     "output_type": "stream",
     "text": [
      "apple\n"
     ]
    },
    {
     "data": {
      "text/plain": [
       "'appleway'"
      ]
     },
     "execution_count": 30,
     "metadata": {},
     "output_type": "execute_result"
    }
   ],
   "source": [
    "def pig(p):\n",
    "    x=p.lower()\n",
    "    print(x)\n",
    "    Vowels = ['a', 'e', 'i','o', 'u']\n",
    "    if  x[0] in Vowels:\n",
    "        return x +\"way\"\n",
    "    else:\n",
    "        return x[1:] + x[0] + \"ay\"\n",
    "\n",
    "pig('apple')"
   ]
  },
  {
   "cell_type": "markdown",
   "id": "c9fd2e9c",
   "metadata": {},
   "source": [
    "Question 7 Python"
   ]
  },
  {
   "cell_type": "code",
   "execution_count": 31,
   "id": "0ef9df62",
   "metadata": {},
   "outputs": [
    {
     "name": "stdout",
     "output_type": "stream",
     "text": [
      "There are 15 patients of blood type A\n",
      "There are 1 patients of blood type B\n",
      "There are 13 patients of blood type AB\n",
      "There are 15 patients of blood type O\n",
      "There is no patients of blood type OO\n"
     ]
    }
   ],
   "source": [
    "def bldcount(file_name):\n",
    "    h = open(file_name, 'r')\n",
    "    Data = h.readlines()\n",
    "    Tuple= ('A','B','AB', 'O','OO')\n",
    "    b= []\n",
    "    for x in Data:\n",
    "        a = x.split()\n",
    "        b.append(a)\n",
    "\n",
    "    frequency = {}\n",
    "\n",
    "    for item in b[0]:\n",
    "       if item in frequency:\n",
    "          frequency[item] += 1\n",
    "       else:\n",
    "          frequency[item] = 1\n",
    "    for x in Tuple:\n",
    "        if x in frequency:\n",
    "            print(\"There are\",frequency[x],\"patients of blood type\",x)\n",
    "        else:\n",
    "            print(\"There is no patients of blood type\",x)\n",
    "            \n",
    "bldcount('bloodtype1.txt')"
   ]
  },
  {
   "cell_type": "markdown",
   "id": "7160f7c5",
   "metadata": {},
   "source": [
    "Question 8 Python"
   ]
  },
  {
   "cell_type": "code",
   "execution_count": 32,
   "id": "f2353677",
   "metadata": {},
   "outputs": [
    {
     "name": "stdout",
     "output_type": "stream",
     "text": [
      "7.518479999999999\n"
     ]
    }
   ],
   "source": [
    "def curconv(Name,Amount):\n",
    "    c = open('Currencies.txt', 'r')\n",
    "    Data = c.readlines()\n",
    "    d = []\n",
    "    for line in Data:\n",
    "        d.append(line.split())\n",
    "    for x in range(len(d)):\n",
    "        if Name == d[x][0]:\n",
    "            print(float(d[x][1])*Amount)\n",
    "            \n",
    "curconv('MXN',100)"
   ]
  },
  {
   "cell_type": "markdown",
   "id": "897b8ec0",
   "metadata": {},
   "source": [
    "Question 9 Python"
   ]
  },
  {
   "cell_type": "code",
   "execution_count": 33,
   "id": "51986c14",
   "metadata": {},
   "outputs": [
    {
     "name": "stdout",
     "output_type": "stream",
     "text": [
      "[0, 0, 0, 0, 0, 0, 0, 0, 0, 0, 0, 0, 0, 0, 0, 0, 0, 0, 0, 0, 0, 0, 0, 0, 0, 0]\n"
     ]
    }
   ],
   "source": [
    "def frequency(user_input):\n",
    "    List1 = [0,0,0,0,0,0,0,0,0,0,0,0,0,0,0,0,0,0,0,0,0,0,0,0,0,0]\n",
    "\n",
    "    List2 = ['a','b','c','d','e','f','g','h','i','j','k','l','m','n','o','p','q','r','s','t','u','v','w','x','y','z']\n",
    "\n",
    "    string=user_input.lower() \n",
    "    y = []\n",
    "    for i in string:\n",
    "        y.append(i)\n",
    "\n",
    "    frequency1 = {}\n",
    "\n",
    "    for item in y:\n",
    "       if item in frequency1:\n",
    "          frequency1[item] += 1\n",
    "       else:\n",
    "          frequency1[item] = 1\n",
    "\n",
    "    for i in frequency1:\n",
    "\n",
    "        if i  in List1:\n",
    "            x = List2.index(i)\n",
    "            List1[x] =frequency1[i]\n",
    "\n",
    "    print(List1)\n",
    "    \n",
    "frequency('abca')"
   ]
  },
  {
   "cell_type": "markdown",
   "id": "f340e6b1",
   "metadata": {},
   "source": [
    "Question 10 Python"
   ]
  },
  {
   "cell_type": "code",
   "execution_count": 34,
   "id": "d8ee382e",
   "metadata": {},
   "outputs": [
    {
     "data": {
      "text/plain": [
       "[1, 1, 1, 3, 5, 1, 1, 2, 1, 0, 1, 0, 1, 2, 4, 0, 1, 2, 0, 2, 1, 0, 1, 1, 0, 0]"
      ]
     },
     "execution_count": 34,
     "metadata": {},
     "output_type": "execute_result"
    }
   ],
   "source": [
    "def frequency(string):\n",
    "    alphabets = \"abcdefghijklmnopqrstuvwxyz\"\n",
    "    result = []\n",
    "    for i in alphabets:\n",
    "        result.append(string.count(i))\n",
    "        \n",
    "    return result\n",
    "frequency('The quick red fox got bored and went home.')"
   ]
  }
 ],
 "metadata": {
  "kernelspec": {
   "display_name": "Python 3 (ipykernel)",
   "language": "python",
   "name": "python3"
  },
  "language_info": {
   "codemirror_mode": {
    "name": "ipython",
    "version": 3
   },
   "file_extension": ".py",
   "mimetype": "text/x-python",
   "name": "python",
   "nbconvert_exporter": "python",
   "pygments_lexer": "ipython3",
   "version": "3.9.13"
  }
 },
 "nbformat": 4,
 "nbformat_minor": 5
}
